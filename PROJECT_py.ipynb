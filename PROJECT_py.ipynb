{
  "nbformat": 4,
  "nbformat_minor": 0,
  "metadata": {
    "colab": {
      "name": "PROJECT.py",
      "provenance": [],
      "collapsed_sections": [],
      "authorship_tag": "ABX9TyM6e7dxVhucttEw0RVLUne/",
      "include_colab_link": true
    },
    "kernelspec": {
      "name": "python3",
      "display_name": "Python 3"
    },
    "accelerator": "TPU"
  },
  "cells": [
    {
      "cell_type": "markdown",
      "metadata": {
        "id": "view-in-github",
        "colab_type": "text"
      },
      "source": [
        "<a href=\"https://colab.research.google.com/github/arya-k-5/ES102-Project-/blob/main/PROJECT_py.ipynb\" target=\"_parent\"><img src=\"https://colab.research.google.com/assets/colab-badge.svg\" alt=\"Open In Colab\"/></a>"
      ]
    },
    {
      "cell_type": "code",
      "metadata": {
        "colab": {
          "base_uri": "https://localhost:8080/"
        },
        "id": "IhBnu_eFFD22",
        "outputId": "662c38b0-9bf7-457e-b3df-d0482d8f0fa5"
      },
      "source": [
        "import random\r\n",
        "\r\n",
        "def index(x,l):\r\n",
        "  for i in range(len(l)):\r\n",
        "    if l[i]==x:\r\n",
        "      return(i)\r\n",
        "\r\n",
        "spell=['Accio','Aberto','Aguamenti','Alohomora','Anapneo','Aparecium','Apparate','Ascendio','Avada kedavra','Avis','Bat-Bogey Hex','Bombardo',\r\n",
        "       'Brackium emendo',\r\n",
        "       'Capacious extremis','Confundo','Conjunctivitis Curse','Crinus Muto','Crucio','Diffindo','Disillusionment Charm','Disapparate',\r\n",
        "       'Engorgio','Episkey',\r\n",
        "       'Expecto patronum','Erecto' ,'Evanesco','Expelliarmus','Ferula','Fidelius Charm','Fiendfyre Curse','Finite Incantatem',\r\n",
        "       'Furnunculus Curse','Geminio',\r\n",
        "       'Glisseo','Homenum Revelio','Homonculus Charm','Immobulus','Impedimenta','Incarcerous','Imperio','Impervius','Incendio',\r\n",
        "       'Langlock','Legilimens','Levicorpus',\r\n",
        "       'Locomotor Mortis','Lumos','Morsmordre','Mucus Ad Nauseam','Muffliato','Nox','Obliviate','Obscuro' ,'Oculus Reparo',\r\n",
        "       'Oppugno','Petrificus totalus',\r\n",
        "       'Periculum', 'Piertotum Locomotor','Protean Charm','Protego', 'Reducto','Reducio','Renneverate','Reparifors','Reparo'\r\n",
        "       ,'Rictusempra','Riddikulus','Scourgify',\r\n",
        "       'Sectumsempra','Serpensortia','Silencio','Sonorus','Spongify','Stupefy','Tarantallegra','Unbreakable vow','Wingardium leviosa']\r\n",
        "\r\n",
        "Hint = [\"Summons object\",'Opens locked doors',\"Summons Water\",\"Unlocks doors and other objects \",\"Clears the target's airway\",'Reveals secret written messages',\r\n",
        "        \"transportation spell that allows a witch or wizard to instantly travel on the spot and appear at another location\",'Propells someone into the air',\r\n",
        "        \"Harry Potter is the only known witch or wizard to survive it\",'Conjures a small flock of birds',\"Turns the target's boogers into bats\",\r\n",
        "        \"Creates an explosion\",\"Heals broken bones\",\"spell that can greatly expand or extend the capacity of an object or space without affecting it externally\",\r\n",
        "        \"it causes confusion of the target\",\"Affects the eyes and sight of a target\",\"Changes hair color and style\",\"it causes unbearable pain in the target\",\r\n",
        "        \"Used to precisely cut an object\",\"Causes the target to take on the appearance of its surroundings\",\r\n",
        "        \"spell that allows a witch or wizard to instantly travel on the spot and leave for another location\",\"Causes rapid growth in the targeted object\",\r\n",
        "        \"Heals minor injuries\",\"This charm is a powerful projection of hope and happiness that drives away Dementors\",\"Allows a witch or wizard to build a structure, like a tent\",\r\n",
        "        \"Vanishes objects\",\"Forces an opponent to drop whatever's in their possession\",\" A healing charm that conjures wraps and bandages for wounds\",\r\n",
        "        \"A complex charm that conceals a secret into the soul of a chosen 'Secret Keeper'\",\"Conjures destructive, enormous enchanted flames\",\r\n",
        "        \"A general counter-spell that's used to reverse or counter already cast charms\",\"A jinx that causes a breakout of boils or pimples\",\r\n",
        "        \"Duplicates objects\",\"Transforms a staircase into a slide\",\"Reveals the presence of another person\",\"Detects anyone's true identity and location on a piece of parchment\",\r\n",
        "        \"Immobilises living targets\",\"A temporary jinx that slows the movement of the target\",\"Conjures ropes\",\"it places the target under the complete control of the caster\",\r\n",
        "        \"Makes an object waterproof\",\"Conjures flames\",\"Causes the target's tongue to stick to the roof of their mouth\",\"Invading or navigating another's mind\",\r\n",
        "        \"Levitates the target by their ankle\",\"The Leg-Locker curse bounds the target's legs\",\"Illuminates the caster's wand\",\"Conjures and projects Lord Voldemort's Dark Mark\",\r\n",
        "        \"Inflicts an extreme runny nose or cold\",\"Creates a buzzing sound in the target's ears to prevent eavesdropping\",\"Reverses the lumos charm, extinguishing a wand's light\",\r\n",
        "        \"Erases the target's memory\",\"Conjures a blindfold\",\"Repairs eyeglasses\",\" Directs an object or person to attack a victim\",\"Temporarily freezes or petrifies the body of the target\",\r\n",
        "        \"Conjures flares/red sparks\"]\r\n",
        "print(\"Instructions\",\"1)Guess the spell using the giveb hints.\" ,\r\n",
        "      \"2)Write the first letter of the spell in upper case. For ex.Harry potter\",\r\n",
        "      \"3)You will be awarded 10 points for every correct answer.\",\r\n",
        "      \"4) Every question has 3 attempts\",end='\\n')\r\n",
        "counter=0\r\n",
        "\r\n",
        "while True:\r\n",
        "  t = 0\r\n",
        "  s = random.choice(spell)\r\n",
        "  n = index(s,spell)\r\n",
        "  print(Hint[n])\r\n",
        "  while t<3:\r\n",
        "    ans = input()\r\n",
        "    if ans==s:\r\n",
        "      print(\"Correct!!!\")\r\n",
        "      counter = counter+10\r\n",
        "    else :\r\n",
        "      print(\"oops! try again\")\r\n",
        "      counter = counter+0\r\n",
        "    t = t+1\r\n",
        "  print(\"Do you want to continue?\",\"yes or no\")\r\n",
        "  inp = input()\r\n",
        "  if inp ==\"yes\":\r\n",
        "    continue\r\n",
        "  else:\r\n",
        "    break\r\n",
        "print(\"your total score is\",counter)\r\n"
      ],
      "execution_count": null,
      "outputs": [
        {
          "output_type": "stream",
          "text": [
            "Instructions 1)Guess the spell using the giveb hints. 2)Write the first letter of the spell in upper case. For ex.Harry potter 3)You will be awarded 10 points for every correct answer. 4) Every question has 3 attempts\n",
            "Heals broken bones\n",
            "oops! try again\n",
            "oops! try again\n",
            "oops! try again\n",
            "Do you want to continue? yes or no\n",
            "Creates a buzzing sound in the target's ears to prevent eavesdropping\n"
          ],
          "name": "stdout"
        }
      ]
    }
  ]
}